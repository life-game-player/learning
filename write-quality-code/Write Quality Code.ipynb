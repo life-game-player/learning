{
 "cells": [
  {
   "cell_type": "markdown",
   "metadata": {},
   "source": [
    "## Implement Const in Python"
   ]
  },
  {
   "cell_type": "code",
   "execution_count": 9,
   "metadata": {},
   "outputs": [],
   "source": [
    "class Const:\n",
    "    class ConstError(TypeError):\n",
    "        pass\n",
    "\n",
    "    class ConstCaseError(ConstError):\n",
    "        pass\n",
    "\n",
    "    def __setattr__(self, name, value):\n",
    "        if name in self.__dict__:\n",
    "            raise self.ConstError(\"Can't change const variable {}\".format(name))\n",
    "        if not name.isupper():\n",
    "            raise self.ConstCaseError(\"Const variable must be in upper case\")\n",
    "        self.__dict__[name] = value\n",
    "\n",
    "\n",
    "const = Const()\n",
    "const.A = \"This is a const\"\n",
    "const.A = \"This is not a const\"\n",
    "const.b = \"This is another const\"\n",
    "const.A"
   ]
  },
  {
   "cell_type": "markdown",
   "metadata": {},
   "source": [
    "## Implement Unlimit Series of Fibonacci"
   ]
  },
  {
   "cell_type": "code",
   "execution_count": 17,
   "metadata": {},
   "outputs": [
    {
     "name": "stdout",
     "output_type": "stream",
     "text": [
      "10 numbers from Fibonacci:\n",
      "  1. 0\n",
      "  2. 1\n",
      "  3. 1\n",
      "  4. 2\n",
      "  5. 3\n",
      "  6. 5\n",
      "  7. 8\n",
      "  8. 13\n",
      "  9. 21\n",
      " 10. 34\n",
      "15 numbers from Fibonacci:\n",
      "  1. 0\n",
      "  2. 1\n",
      "  3. 1\n",
      "  4. 2\n",
      "  5. 3\n",
      "  6. 5\n",
      "  7. 8\n",
      "  8. 13\n",
      "  9. 21\n",
      " 10. 34\n",
      " 11. 55\n",
      " 12. 89\n",
      " 13. 144\n",
      " 14. 233\n",
      " 15. 377\n"
     ]
    }
   ],
   "source": [
    "def fibonacci():\n",
    "    a = 0\n",
    "    b = 1\n",
    "    while True:\n",
    "        yield a\n",
    "        a, b = b, a+b\n",
    "        \n",
    "\n",
    "def print_n(generator, n):\n",
    "    for i, v in enumerate(generator):\n",
    "        if i == n:\n",
    "            break\n",
    "        print(\"{:3}. {}\".format(i+1, v))\n",
    "\n",
    "\n",
    "print(\"10 numbers from Fibonacci:\")\n",
    "print_n(fibonacci(), 10)\n",
    "print(\"15 numbers from Fibonacci:\")\n",
    "print_n(fibonacci(), 15)"
   ]
  },
  {
   "cell_type": "code",
   "execution_count": null,
   "metadata": {},
   "outputs": [],
   "source": []
  }
 ],
 "metadata": {
  "kernelspec": {
   "display_name": "Python 3",
   "language": "python",
   "name": "python3"
  },
  "language_info": {
   "codemirror_mode": {
    "name": "ipython",
    "version": 3
   },
   "file_extension": ".py",
   "mimetype": "text/x-python",
   "name": "python",
   "nbconvert_exporter": "python",
   "pygments_lexer": "ipython3",
   "version": "3.7.2"
  }
 },
 "nbformat": 4,
 "nbformat_minor": 2
}
