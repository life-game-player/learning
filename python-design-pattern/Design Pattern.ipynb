{
 "cells": [
  {
   "cell_type": "markdown",
   "metadata": {},
   "source": [
    "## Singleton Pattern"
   ]
  },
  {
   "cell_type": "markdown",
   "metadata": {},
   "source": [
    "### Implement Singleton by Overriding `__new__`"
   ]
  },
  {
   "cell_type": "code",
   "execution_count": 2,
   "metadata": {},
   "outputs": [
    {
     "name": "stdout",
     "output_type": "stream",
     "text": [
      "<__main__.Singleton object at 0x7f36ec9e8cc0>\n",
      "<__main__.Singleton object at 0x7f36ec9e8cc0>\n"
     ]
    }
   ],
   "source": [
    "class Singleton:\n",
    "    def __new__(cls):\n",
    "        if not hasattr(cls, 'instance'):\n",
    "            cls.instance = super().__new__(cls)\n",
    "        return cls.instance\n",
    "\n",
    "\n",
    "s1 = Singleton()\n",
    "s2 = Singleton()\n",
    "print(s1)\n",
    "print(s2)"
   ]
  },
  {
   "cell_type": "markdown",
   "metadata": {},
   "source": [
    "**`__init__` will be called for multiple times because `__new__` returns an uninitialized object on which `__init__` will be called afterwards.**\n",
    "\n",
    "We can avoid this later by using meta class."
   ]
  },
  {
   "cell_type": "code",
   "execution_count": 5,
   "metadata": {},
   "outputs": [
    {
     "name": "stdout",
     "output_type": "stream",
     "text": [
      "The resource-intensive class B is initialized\n",
      "The resource-intensive class C is initialized\n",
      "Resource-intensive class C\n",
      "Resource-intensive class C\n"
     ]
    }
   ],
   "source": [
    "class Singleton:\n",
    "    def __new__(cls, *args, **kwargs):\n",
    "        if not hasattr(cls, 'instance'):\n",
    "            cls.instance = super().__new__(cls)\n",
    "        return cls.instance\n",
    "\n",
    "\n",
    "class ResourceIntensiveClass(Singleton):        \n",
    "    def __init__(self, name):\n",
    "        self.name = name\n",
    "        print(\"The resource-intensive class {} is initialized\".format(self.name))\n",
    "\n",
    "    def __str__(self):\n",
    "        return \"Resource-intensive class {}\".format(self.name)    \n",
    "\n",
    "obj_1 = ResourceIntensiveClass(\"B\")\n",
    "obj_2 = ResourceIntensiveClass(\"C\")\n",
    "print(obj_1)\n",
    "print(obj_2)"
   ]
  },
  {
   "cell_type": "markdown",
   "metadata": {},
   "source": [
    "### Implement Lazy Singleton"
   ]
  },
  {
   "cell_type": "markdown",
   "metadata": {},
   "source": [
    "There will be single instance for resource-intensive class, though Singleton could have multiple instances."
   ]
  },
  {
   "cell_type": "code",
   "execution_count": 3,
   "metadata": {},
   "outputs": [
    {
     "name": "stdout",
     "output_type": "stream",
     "text": [
      "Create object without initialization\n",
      "The resource-intensive class A is initialized\n",
      "Already have initialized object Resource-intensive class A: 139956547891944\n",
      "<__main__.Singleton object at 0x7f4a2c523390> <__main__.Singleton object at 0x7f4a2c523320>\n",
      "Resource-intensive class A: 139956547891944 Resource-intensive class A: 139956547891944\n"
     ]
    }
   ],
   "source": [
    "class Singleton:\n",
    "    __instance = None\n",
    "\n",
    "    def __init__(self):\n",
    "        if not Singleton.__instance:\n",
    "            print(\"Create object without initialization\")\n",
    "        else:\n",
    "            print(\"Already have initialized object\", Singleton.__instance)\n",
    "\n",
    "    @classmethod\n",
    "    def get_instance(cls, name):\n",
    "        if not cls.__instance:\n",
    "            cls.__instance = ResourceIntensiveClass(name)\n",
    "        return cls.__instance\n",
    "\n",
    "    \n",
    "class ResourceIntensiveClass(Singleton):        \n",
    "    def __init__(self, name):\n",
    "        self.name = name\n",
    "        print(\"The resource-intensive class {} is initialized\".format(self.name))\n",
    "\n",
    "    def __str__(self):\n",
    "        return \"Resource-intensive class {}: {}\".format(self.name, id(self)) \n",
    "\n",
    "s1 = Singleton()\n",
    "obj_1 = Singleton.get_instance('A')\n",
    "s2 = Singleton()\n",
    "obj_2 = Singleton.get_instance('B')\n",
    "print(s1, s2)\n",
    "print(obj_1, obj_2)"
   ]
  },
  {
   "cell_type": "markdown",
   "metadata": {},
   "source": [
    "### Implement Monostate/Borg Pattern"
   ]
  },
  {
   "cell_type": "markdown",
   "metadata": {},
   "source": [
    "It does not matter whether class has only one instance. Important is all the instances share the same status."
   ]
  },
  {
   "cell_type": "code",
   "execution_count": 9,
   "metadata": {},
   "outputs": [
    {
     "name": "stdout",
     "output_type": "stream",
     "text": [
      "Name: Sun, Age: 30 | (id=139956547378592)\n",
      "Name: Will, Age: 30 | (id=139956547378592)\n",
      "Name: Will, Age: 30 | (id=139956547376352)\n"
     ]
    }
   ],
   "source": [
    "class Brog:\n",
    "    __shared_state = {}\n",
    "    \n",
    "    def __new__(cls, *args, **kwargs):\n",
    "        obj = super().__new__(cls)\n",
    "        obj.__dict__ = cls.__shared_state\n",
    "        return obj\n",
    "    \n",
    "    def __init__(self, name, age):\n",
    "        self.name = name\n",
    "        self.age = age\n",
    "        \n",
    "    def __str__(self):\n",
    "        return \"Name: {}, Age: {} | (id={})\".format(self.name, self.age, id(self))\n",
    "    \n",
    "\n",
    "b1 = Brog(\"Sun\", 30)\n",
    "print(b1)\n",
    "b2 = Brog(\"Will\", 30)\n",
    "print(b1)\n",
    "print(b2)"
   ]
  },
  {
   "cell_type": "markdown",
   "metadata": {},
   "source": [
    "### Implement Singleton by Using Meta Class"
   ]
  },
  {
   "cell_type": "markdown",
   "metadata": {},
   "source": [
    "`__init__` is invoked only once using meta class."
   ]
  },
  {
   "cell_type": "code",
   "execution_count": 12,
   "metadata": {},
   "outputs": [
    {
     "name": "stdout",
     "output_type": "stream",
     "text": [
      "__init__ is invoked\n",
      "Resource-intensive Class A(139956547466520)\n",
      "Resource-intensive Class A(139956547466520)\n",
      "Resource-intensive Class A(139956547466520)\n"
     ]
    }
   ],
   "source": [
    "class MetaSingleton(type):\n",
    "    __instances = {}\n",
    "    \n",
    "    def __call__(cls, *args, **kwargs):\n",
    "        if cls not in cls.__instances:\n",
    "            cls.__instances[cls] = super().__call__(*args, **kwargs)\n",
    "        return cls.__instances[cls]\n",
    "    \n",
    "    \n",
    "class ResourceIntensiveClass(metaclass=MetaSingleton):\n",
    "    def __init__(self, name):\n",
    "        self.name = name\n",
    "        print(\"__init__ is invoked\")\n",
    "        \n",
    "    def __str__(self):\n",
    "        return \"Resource-intensive Class {}({})\".format(self.name, id(self))\n",
    "    \n",
    "\n",
    "s1 = ResourceIntensiveClass(\"A\")\n",
    "print(s1)\n",
    "s2 = ResourceIntensiveClass(\"B\")\n",
    "print(s1)\n",
    "print(s2)"
   ]
  },
  {
   "cell_type": "markdown",
   "metadata": {},
   "source": [
    "## Factory Pattern"
   ]
  },
  {
   "cell_type": "markdown",
   "metadata": {},
   "source": [
    "### Simple Factory"
   ]
  },
  {
   "cell_type": "code",
   "execution_count": 6,
   "metadata": {},
   "outputs": [
    {
     "name": "stdout",
     "output_type": "stream",
     "text": [
      "This is Product B\n"
     ]
    }
   ],
   "source": [
    "from abc import ABCMeta, abstractmethod\n",
    "\n",
    "\n",
    "class AbstractProduct(metaclass=ABCMeta):\n",
    "    @abstractmethod\n",
    "    def describe(self):\n",
    "        pass\n",
    "\n",
    "\n",
    "class ProductA(AbstractProduct):\n",
    "    def describe(self):\n",
    "        print(\"This is Product A\")\n",
    "        \n",
    "\n",
    "class ProductB(AbstractProduct):\n",
    "    def describe(self):\n",
    "        print(\"This is Product B\")\n",
    "        \n",
    "        \n",
    "class Factory:\n",
    "    def make_product(self, product):\n",
    "        return eval(product)()\n",
    "        \n",
    "\n",
    "f = Factory()\n",
    "p = f.make_product('ProductB')\n",
    "p.describe()"
   ]
  },
  {
   "cell_type": "markdown",
   "metadata": {},
   "source": [
    "### Factory Method"
   ]
  },
  {
   "cell_type": "code",
   "execution_count": 8,
   "metadata": {},
   "outputs": [
    {
     "name": "stdout",
     "output_type": "stream",
     "text": [
      "Creator1 :\n",
      "This is Product A\n",
      "This is Product B\n",
      "Creator2 :\n",
      "This is Product B\n",
      "This is Product C\n"
     ]
    }
   ],
   "source": [
    "from abc import ABCMeta, abstractmethod\n",
    "\n",
    "\n",
    "class AbstractCreator(metaclass=ABCMeta):\n",
    "    def __init__(self):\n",
    "        self.products = []\n",
    "\n",
    "    @abstractmethod\n",
    "    def factory_method(self):\n",
    "        pass\n",
    "\n",
    "    def get_products(self):\n",
    "        for p in self.products:\n",
    "            p.describe()\n",
    "\n",
    "    def add_product(self, product):\n",
    "        self.products.append(product)\n",
    "\n",
    "class Creator1(AbstractCreator):\n",
    "    def factory_method(self):\n",
    "        self.add_product(ProductA())\n",
    "        self.add_product(ProductB())\n",
    "        print(\"Creator1 :\")\n",
    "        self.get_products()\n",
    "\n",
    "\n",
    "class Creator2(AbstractCreator):\n",
    "    def factory_method(self):\n",
    "        self.add_product(ProductB())\n",
    "        self.add_product(ProductC())\n",
    "        print(\"Creator2 :\")\n",
    "        self.get_products()\n",
    "\n",
    "\n",
    "class AbstractProduct(metaclass=ABCMeta):\n",
    "    @abstractmethod\n",
    "    def describe(self):\n",
    "        pass\n",
    "\n",
    "\n",
    "class ProductA(AbstractProduct):\n",
    "    def describe(self):\n",
    "        print(\"This is Product A\")\n",
    "\n",
    "\n",
    "class ProductB(AbstractProduct):\n",
    "    def describe(self):\n",
    "        print(\"This is Product B\")\n",
    "\n",
    "\n",
    "class ProductC(AbstractProduct):\n",
    "    def describe(self):\n",
    "        print(\"This is Product C\")\n",
    "\n",
    "\n",
    "c1 = Creator1()\n",
    "c2 = Creator2()\n",
    "c1.factory_method()\n",
    "c2.factory_method()"
   ]
  },
  {
   "cell_type": "markdown",
   "metadata": {},
   "source": [
    "### Abstract Factory"
   ]
  },
  {
   "cell_type": "code",
   "execution_count": null,
   "metadata": {},
   "outputs": [],
   "source": []
  }
 ],
 "metadata": {
  "kernelspec": {
   "display_name": "Python 3",
   "language": "python",
   "name": "python3"
  },
  "language_info": {
   "codemirror_mode": {
    "name": "ipython",
    "version": 3
   },
   "file_extension": ".py",
   "mimetype": "text/x-python",
   "name": "python",
   "nbconvert_exporter": "python",
   "pygments_lexer": "ipython3",
   "version": "3.7.2"
  }
 },
 "nbformat": 4,
 "nbformat_minor": 2
}
